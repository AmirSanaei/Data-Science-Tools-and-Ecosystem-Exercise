{
 "cells": [
  {
   "cell_type": "markdown",
   "id": "5e1a375c-1007-4d45-9573-09866d06c80d",
   "metadata": {},
   "source": []
  },
  {
   "cell_type": "markdown",
   "id": "b52c16b4-13ee-44c4-9912-287aead6856d",
   "metadata": {},
   "source": [
    "# Data Science Tool and Ecosystem"
   ]
  },
  {
   "cell_type": "markdown",
   "id": "5161ee61-7db2-41cb-a131-e306fcc6fcf9",
   "metadata": {
    "tags": []
   },
   "source": [
    "#### Hi dear classmate. \n",
    "#### This is a .ipynb Notebook for Ecxercise of sixth week. In this notebook I cover some markdown and code to show how a python notebook can be.\n",
    "#### Chears"
   ]
  },
  {
   "cell_type": "markdown",
   "id": "119c5a61-af46-46c1-a5d0-e761f5b23562",
   "metadata": {},
   "source": [
    "Some of covered objectives listed below:\n",
    "\n",
    "**Objectives:**\n",
    "\n",
    "* Popular languages in Data Science\n",
    "* Commonly use libraries in Data Science\n",
    "* Some open source tools in Data Science\n",
    "* Some arithmetic expressions"
   ]
  },
  {
   "cell_type": "markdown",
   "id": "4649f639-2c7f-4441-b86f-0b1fbfdf0097",
   "metadata": {},
   "source": [
    "### Some of the popular languages that Data Scientists use are:\n",
    "\n",
    "1. python\n",
    "2. R\n",
    "3. SQL\n",
    "4. Julia\n",
    "5. Go\n",
    "\n",
    "and so more"
   ]
  },
  {
   "cell_type": "markdown",
   "id": "cc1df4e9-9672-4751-888f-c57371500728",
   "metadata": {},
   "source": [
    "### Some of the commonly used libraries used by Data Scientists includes:\n",
    "\n",
    "1. Numpy\n",
    "2. Pandas\n",
    "3. Matplotlib\n",
    "4. scikit-learn\n",
    "5. ggplot2\n",
    "6. Keras\n",
    "\n",
    "and many more\n"
   ]
  },
  {
   "cell_type": "markdown",
   "id": "37e80a30-be29-4609-b44a-2a57d59b51ba",
   "metadata": {},
   "source": [
    "### Here is a sample Table of Data Science tools. They are open source IDEs:\n",
    "\n",
    "|Data Science Tools|\n",
    "|------------------|\n",
    "|Jupyter|\n",
    "|SPYDER|\n",
    "|RStudio|\n",
    "\n"
   ]
  },
  {
   "cell_type": "markdown",
   "id": "22af9a7a-e7f9-429b-9942-c5767dac334f",
   "metadata": {},
   "source": [
    "### Below are a few examples of evaluating arithmetic expressions in Python"
   ]
  },
  {
   "cell_type": "code",
   "execution_count": 1,
   "id": "c511b371-8e13-49a6-a7bd-2072ca0d7c8b",
   "metadata": {},
   "outputs": [
    {
     "data": {
      "text/plain": [
       "17"
      ]
     },
     "execution_count": 1,
     "metadata": {},
     "output_type": "execute_result"
    }
   ],
   "source": [
    "# This a simple arithmetic expression to mutiply then add integers\n",
    "(3*4)+5"
   ]
  },
  {
   "cell_type": "code",
   "execution_count": 6,
   "id": "41435f9f-8f93-4c86-b327-34ede1b14308",
   "metadata": {},
   "outputs": [
    {
     "name": "stdout",
     "output_type": "stream",
     "text": [
      "3.33\n"
     ]
    }
   ],
   "source": [
    "# This will convert 200 minutes to hours by divide by 60\n",
    "\n",
    "min = 200\n",
    "hour = min /60\n",
    "print (round(hour,2))"
   ]
  },
  {
   "cell_type": "markdown",
   "id": "f4387a4c-1049-4a83-916c-c41436268b05",
   "metadata": {},
   "source": [
    "## Author\n",
    "\n",
    "[Amir Sanaei](amirsanaii@gmail.com) \n",
    "\n",
    "\n",
    "| Date (YYYY-MM-DD) | Version | Created By |\n",
    "| ----------------- | ------- | ---------- |\n",
    "| 2023-06-21        | 1.0     | Amir Sanaei|\n",
    "\n",
    "\n",
    "## © Amir Coooooorporation 2023. HAVE FUN.\n"
   ]
  }
 ],
 "metadata": {
  "kernelspec": {
   "display_name": "anaconda-panel-2023.05-py310",
   "language": "python",
   "name": "conda-env-anaconda-panel-2023.05-py310-py"
  },
  "language_info": {
   "codemirror_mode": {
    "name": "ipython",
    "version": 3
   },
   "file_extension": ".py",
   "mimetype": "text/x-python",
   "name": "python",
   "nbconvert_exporter": "python",
   "pygments_lexer": "ipython3",
   "version": "3.11.3"
  }
 },
 "nbformat": 4,
 "nbformat_minor": 5
}
